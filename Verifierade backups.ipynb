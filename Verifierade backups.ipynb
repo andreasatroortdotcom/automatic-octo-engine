{
 "cells": [
  {
   "cell_type": "markdown",
   "metadata": {},
   "source": [
    "Tabellskapande:\n",
    "\n",
    "Två tabeller skapas:\n",
    "VerifiedBackups lagrar information om backup-filer och datumet då de verifierades.\n",
    "BackupLocations sparar servernamn och backup-sökvägar."
   ]
  },
  {
   "cell_type": "code",
   "execution_count": null,
   "metadata": {
    "vscode": {
     "languageId": "sql"
    }
   },
   "outputs": [],
   "source": [
    "CREATE TABLE VerifiedBackups (\n",
    "    BackupFile NVARCHAR(255) PRIMARY KEY,\n",
    "    VerificationDate DATETIME\n",
    ")\n",
    "CREATE TABLE BackupLocations (\n",
    "    ServerName NVARCHAR(255),\n",
    "    BackupPath NVARCHAR(255)\n",
    ")\n"
   ]
  },
  {
   "cell_type": "markdown",
   "metadata": {},
   "source": [
    "Infoga backup-platser:\n",
    "\n",
    "Infoga servernamn och sökväg i tabellen BackupLocations."
   ]
  },
  {
   "cell_type": "code",
   "execution_count": null,
   "metadata": {
    "vscode": {
     "languageId": "sql"
    }
   },
   "outputs": [],
   "source": [
    "INSERT INTO BackupLocations (ServerName, BackupPath)\n",
    "VALUES \n",
    "('Server1', '\\\\Server1\\BackupFolder\\'),\n",
    "('Server2', '\\\\Server2\\BackupFolder\\'),\n",
    "('Server3', '\\\\Server3\\BackupFolder\\')\n"
   ]
  },
  {
   "cell_type": "markdown",
   "metadata": {},
   "source": [
    "Backup-verifieringsprocessen:\n",
    "\n",
    "Deklarera variabler för servernamn, backup-sökväg, backup-fil och felmeddelanden.\n",
    "En cursor itererar genom varje server och backup-sökväg, hämtar listan över .bak-filer med hjälp av xp_cmdshell, och kontrollerar om filen redan har verifierats.\n",
    "Om en fil inte är verifierad, körs kommandot RESTORE VERIFYONLY för att kontrollera att backupen är giltig.\n",
    "Om verifieringen misslyckas, skickas ett e-postmeddelande med detaljer om felet."
   ]
  },
  {
   "cell_type": "code",
   "execution_count": null,
   "metadata": {
    "vscode": {
     "languageId": "sql"
    }
   },
   "outputs": [],
   "source": [
    "DECLARE @ServerName NVARCHAR(255)\n",
    "DECLARE @BackupPath NVARCHAR(255)\n",
    "DECLARE @BackupFile NVARCHAR(255)\n",
    "DECLARE @Command NVARCHAR(1000)\n",
    "DECLARE @ErrorMessage NVARCHAR(4000)\n",
    "\n",
    "-- Skapa en tabell för att lagra backupfiler\n",
    "CREATE TABLE #BackupFiles (BackupFile NVARCHAR(255))\n",
    "\n",
    "-- Iterera genom varje server och mapp\n",
    "DECLARE LocationCursor CURSOR FOR\n",
    "SELECT ServerName, BackupPath FROM BackupLocations\n",
    "\n",
    "OPEN LocationCursor\n",
    "FETCH NEXT FROM LocationCursor INTO @ServerName, @BackupPath\n",
    "\n",
    "WHILE @@FETCH_STATUS = 0\n",
    "BEGIN\n",
    "    -- Fyll tabellen med backupfiler från nätverkskatalogen\n",
    "    TRUNCATE TABLE #BackupFiles\n",
    "    INSERT INTO #BackupFiles (BackupFile)\n",
    "    EXEC ('xp_cmdshell ''dir /b ' + @BackupPath + '*.bak''')\n",
    "\n",
    "    -- Iterera genom varje backupfil och kör RESTORE VERIFYONLY om den inte redan är verifierad\n",
    "    DECLARE BackupCursor CURSOR FOR\n",
    "    SELECT BackupFile FROM #BackupFiles\n",
    "\n",
    "    OPEN BackupCursor\n",
    "    FETCH NEXT FROM BackupCursor INTO @BackupFile\n",
    "\n",
    "    WHILE @@FETCH_STATUS = 0\n",
    "    BEGIN\n",
    "        IF NOT EXISTS (SELECT 1 FROM VerifiedBackups WHERE BackupFile = @BackupFile)\n",
    "        BEGIN\n",
    "            BEGIN TRY\n",
    "                SET @Command = N'RESTORE VERIFYONLY FROM DISK = ''' + @BackupPath + @BackupFile + ''''\n",
    "                EXEC sp_executesql @Command\n",
    "\n",
    "                -- Lägg till filen i VerifiedBackups-tabellen\n",
    "                INSERT INTO VerifiedBackups (BackupFile, VerificationDate)\n",
    "                VALUES (@BackupFile, GETDATE())\n",
    "            END TRY\n",
    "            BEGIN CATCH\n",
    "                SET @ErrorMessage = ERROR_MESSAGE()\n",
    "                EXEC msdb.dbo.sp_send_dbmail\n",
    "                    @profile_name = 'Profil',\n",
    "                    @recipients = 'andreas@roort.com',\n",
    "                    @subject = 'Backup Verification Failed',\n",
    "                    @body = 'Verification of backup file ' + @BackupFile + ' on server ' + @ServerName + ' failed. Error: ' + @ErrorMessage\n",
    "            END CATCH\n",
    "        END\n",
    "        FETCH NEXT FROM BackupCursor INTO @BackupFile\n",
    "    END\n",
    "\n",
    "    CLOSE BackupCursor\n",
    "    DEALLOCATE BackupCursor\n",
    "\n",
    "    FETCH NEXT FROM LocationCursor INTO @ServerName, @BackupPath\n",
    "END\n",
    "\n",
    "CLOSE LocationCursor\n",
    "DEALLOCATE LocationCursor\n",
    "\n",
    "-- Rensa upp\n",
    "DROP TABLE #BackupFiles\n"
   ]
  },
  {
   "cell_type": "markdown",
   "metadata": {},
   "source": [
    "Todo:"
   ]
  },
  {
   "cell_type": "markdown",
   "metadata": {},
   "source": [
    ". Använd SQL Server Agent för att schemalägga körningen av skriptet vid regelbundna intervaller (dagligen?). \n",
    "\n",
    ". Utöka skript för att skriva till en loggtabell som innehåller varje verifieringskörning, inklusive resultat, verifieringstid och eventuella fel.\n",
    "\n",
    ". Vid nätverks- eller åtkomstproblem inträffar ska vi logga dessa och försöka igen efter tidsenhet(timme?) , istället för att bara skicka ett felmeddelande. Skicka felmeddelande efter 3 försök. \n",
    "\n"
   ]
  },
  {
   "cell_type": "markdown",
   "metadata": {},
   "source": [
    "Bonusfunktioner:"
   ]
  },
  {
   "cell_type": "markdown",
   "metadata": {},
   "source": [
    ". Checksum-kontroller?: Använd CHECKSUM vid backup-skapandet och verifieringen för att ytterligare säkerställa att backup-filerna är intakta.\n",
    "\n",
    ". Indexera BackupFile-kolumnen i tabellen VerifiedBackups för att snabba upp verifieringsprocessen.\n",
    "\n",
    ". Integrera med Prometheus \n",
    "\n",
    ". Valbart om man ska ha verifyonly eller ej\n",
    "\n",
    ". Valbart om man sparar till log, tabell eller skickar mail\n"
   ]
  },
  {
   "cell_type": "markdown",
   "metadata": {},
   "source": [
    "Förslag från ChatGPT:"
   ]
  },
  {
   "cell_type": "markdown",
   "metadata": {},
   "source": []
  },
  {
   "cell_type": "markdown",
   "metadata": {},
   "source": [
    "Användning av xp_cmdshell: Detta anses ofta vara en säkerhetsrisk eftersom det tillåter exekvering av kommandon på operativsystemnivå. xp_cmdshell bör endast vara aktiverat om det är absolut nödvändigt och måste användas med försiktighet.\n",
    "\n",
    "Felfångst och hantering: Skriptet fångar fel och skickar e-postnotifikationer, men det skulle kunna förbättras med mer omfattande loggning för att spåra verifieringsförsök som misslyckas, särskilt om återförsök ska implementeras.\n",
    "\n",
    "Prestandaoptimering: Användningen av cursors kan leda till prestandaproblem om det finns många servrar eller backup-filer att iterera igenom. En set-baserad lösning skulle kunna förbättra prestandan.\n",
    "\n",
    "Loggning och övervakning: Integrationen med Prometheus är ett bra förslag, men en tydlig strategi för att övervaka långsiktiga trender, problem och flaskhalsar skulle vara fördelaktig.\n",
    "\n",
    "Tabellstrukturen för BackupLocations: Det kan vara bra att lägga till unika restriktioner eller primärnycklar för kolumnerna ServerName och BackupPath för att undvika dubbletter.\n"
   ]
  }
 ],
 "metadata": {
  "language_info": {
   "name": "python"
  }
 },
 "nbformat": 4,
 "nbformat_minor": 2
}
